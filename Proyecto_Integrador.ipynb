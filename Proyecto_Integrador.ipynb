{
  "nbformat": 4,
  "nbformat_minor": 0,
  "metadata": {
    "colab": {
      "provenance": []
    },
    "kernelspec": {
      "name": "python3",
      "display_name": "Python 3"
    },
    "language_info": {
      "name": "python"
    }
  },
  "cells": [
    {
      "cell_type": "code",
      "source": [
        "!pip install db-sqlite3 lxml selenium"
      ],
      "metadata": {
        "id": "UlzsxvvlxeRn"
      },
      "execution_count": null,
      "outputs": []
    },
    {
      "cell_type": "code",
      "source": [
        "!apt-get update \n",
        "!apt install chromium-chromedriver\n",
        "!cp /usr/lib/chromium-browser/chromedriver /usr/bin\n"
      ],
      "metadata": {
        "id": "cFlDAh4HjefG"
      },
      "execution_count": null,
      "outputs": []
    },
    {
      "cell_type": "code",
      "source": [
        "import sqlite3\n",
        "from bs4 import BeautifulSoup\n",
        "from selenium import webdriver\n",
        "from selenium.webdriver.support.ui import WebDriverWait\n",
        "from selenium.webdriver.common.by import By\n",
        "from selenium.webdriver.support import expected_conditions as EC\n",
        "from selenium.webdriver.common.action_chains import ActionChains\n",
        "import time\n",
        "import re\n",
        "import pandas as pd\n",
        "import matplotlib.pyplot as plt"
      ],
      "metadata": {
        "id": "aS0OH_Byxpro"
      },
      "execution_count": 3,
      "outputs": []
    },
    {
      "cell_type": "markdown",
      "source": [
        "Se crea la  BBDD"
      ],
      "metadata": {
        "id": "lrrl4Nzx_dcJ"
      }
    },
    {
      "cell_type": "code",
      "source": [
        "conn = sqlite3.connect('mydatabase.db')\n",
        "print(\"Opened database successfully\")\n",
        "cur = conn.cursor()"
      ],
      "metadata": {
        "id": "wsuUN13O_U6g",
        "colab": {
          "base_uri": "https://localhost:8080/"
        },
        "outputId": "973a1721-ca56-4925-c2a3-6ae7f0c73280"
      },
      "execution_count": 4,
      "outputs": [
        {
          "output_type": "stream",
          "name": "stdout",
          "text": [
            "Opened database successfully\n"
          ]
        }
      ]
    },
    {
      "cell_type": "markdown",
      "source": [
        "Se crean las tablas LUGAR y VUELO"
      ],
      "metadata": {
        "id": "dZcx3IqS_sKr"
      }
    },
    {
      "cell_type": "code",
      "source": [
        "cur.execute(\"CREATE TABLE IF NOT EXISTS lugar (descripcion  CHAR(50))\")\n",
        "cur.execute(\"CREATE TABLE IF NOT EXISTS vuelo (origen INTEGER, destino INTEGER, compania CHAR(50), escalaida INTEGER, tiempoida REAL, escalavuelta INTEGER, tiempovuelta INTEGER ,precio REAL)\")"
      ],
      "metadata": {
        "id": "HPN3v-Bt_ZAQ",
        "colab": {
          "base_uri": "https://localhost:8080/"
        },
        "outputId": "1439383e-b6a1-4110-e9e8-af672c1fa60f"
      },
      "execution_count": 5,
      "outputs": [
        {
          "output_type": "execute_result",
          "data": {
            "text/plain": [
              "<sqlite3.Cursor at 0x7f7a61bc2500>"
            ]
          },
          "metadata": {},
          "execution_count": 5
        }
      ]
    },
    {
      "cell_type": "code",
      "source": [
        "cur.execute(\"INSERT INTO lugar(descripcion) VALUES('CORDOBA')\")\n",
        "cur.execute(\"INSERT INTO lugar(descripcion) VALUES('MADRID')\")\n",
        "cur.execute(\"INSERT INTO lugar(descripcion) VALUES('BUENOS-AIRES')\")\n",
        "conn.commit()"
      ],
      "metadata": {
        "id": "nA1lRylEm2dg"
      },
      "execution_count": 6,
      "outputs": []
    },
    {
      "cell_type": "markdown",
      "source": [
        "Función que nos permite realizar el Web scraping"
      ],
      "metadata": {
        "id": "81NeQnsG7omJ"
      }
    },
    {
      "cell_type": "code",
      "source": [
        "def resultado(url):\n",
        "  SCROLL_PAUSE_TIME = 0.5\n",
        "  options = webdriver.ChromeOptions()\n",
        "  options.add_argument('--headless')\n",
        "  options.add_argument('--no-sandbox')\n",
        "  options.add_argument('--disable-dev-shm-usage')\n",
        "  options.add_argument('--ignore-certificate-errors')\n",
        "  options.add_argument('--incognito')\n",
        "\n",
        "  driver = webdriver.Chrome('chromedriver',options=options)\n",
        "\n",
        "  last_height = driver.execute_script(\"return document.body.scrollHeight\")\n",
        "\n",
        "  # open web page\n",
        "  driver.get(url)\n",
        "  WebDriverWait(driver, 30).until(EC.presence_of_element_located((By.CLASS_NAME, 'COMMON')))\n",
        "  while True:\n",
        "    # Scroll down to bottom\n",
        "    driver.execute_script(\"window.scrollTo(0, document.body.scrollHeight);\")\n",
        "\n",
        "    # Wait to load page\n",
        "    time.sleep(SCROLL_PAUSE_TIME)\n",
        "\n",
        "    # Calculate new scroll height and compare with last scroll height\n",
        "    new_height = driver.execute_script(\"return document.body.scrollHeight\")\n",
        "    if new_height == last_height:\n",
        "        break\n",
        "    last_height = new_height\n",
        "    #WebDriverWait(driver, 40).until(EC.presence_of_all_elements_located((By.TAG_NAME,'cluster')))\n",
        "\n",
        "  html = driver.page_source\n",
        "  soup = BeautifulSoup(html, 'html.parser') \n",
        "  return soup"
      ],
      "metadata": {
        "id": "eHaKtUu4TDsB"
      },
      "execution_count": 7,
      "outputs": []
    },
    {
      "cell_type": "markdown",
      "source": [
        "Se conecta al sitio web despegar. Se busca los vuelos Córdoba - Madrid"
      ],
      "metadata": {
        "id": "643dqBdx-9ZV"
      }
    },
    {
      "cell_type": "code",
      "source": [
        "soup = resultado('https://www.despegar.com.ar/shop/flights/results/roundtrip/COR/MAD/2022-12-01/2022-12-14/1/0/0/NA/NA/NA/NA/NA?from=SB&di=1-0')"
      ],
      "metadata": {
        "id": "BX7C6m9DVRS1"
      },
      "execution_count": 8,
      "outputs": []
    },
    {
      "cell_type": "markdown",
      "source": [
        "Se realiza insert a la tabla vuelo "
      ],
      "metadata": {
        "id": "LqcGhUWJ-1C1"
      }
    },
    {
      "cell_type": "code",
      "source": [
        "name = soup.find_all('cluster', class_='COMMON')\n",
        "for link in name:\n",
        "  compania = link.find('span', class_='name').get_text().lstrip()\n",
        "  precio = link.find('div', class_='fare-detail-items').find_all('span', class_='amount price-amount')[2].get_text()\n",
        "  way = link.find_all('span', class_='sub-cluster');\n",
        "  ida = way[0].find('span', class_='stops-wrapper text').get_text() \n",
        "  vuelta = way[1].find('span', class_='stops-wrapper text').get_text() \n",
        "  escala_ida = ida[1]\n",
        "  minutos_i = ida[16:19].lstrip().replace('m','')\n",
        "  if minutos_i == '':\n",
        "    minutos_i = '0'\n",
        "  tiempo_ida = str(float(ida[11:14]) + (float(minutos_i) / 60))\n",
        "  minutos = vuelta[16:18].lstrip().replace('m','')\n",
        "  if minutos == '':\n",
        "    minutos = '0'\n",
        "  escala_vuelta = vuelta[1]\n",
        "  tiempo_vuelta = str(float(vuelta[11:14]) + (float(minutos) / 60))\n",
        "  cur.execute(\"INSERT INTO vuelo VALUES (1, 2, '\"+ compania +\"',\"+ escala_ida +\",\" + tiempo_ida +\",\" + escala_vuelta +\",\"+ tiempo_vuelta + \",\" + precio + \")\")\n",
        "  conn.commit()"
      ],
      "metadata": {
        "id": "udIIpjLOWLry"
      },
      "execution_count": 9,
      "outputs": []
    },
    {
      "cell_type": "code",
      "source": [
        "cordoba_vuelo = pd.read_sql(\"SELECT L.descripcion as origen, L2.descripcion as destino, V.compania, V.escalaida, V.tiempoida, V.escalavuelta, V.tiempovuelta, V.precio FROM vuelo V INNER JOIN lugar L ON V.origen = L.rowid INNER JOIN lugar L2 on V.destino = L2.rowid where V.origen = 1 and V.destino = 2\", conn)"
      ],
      "metadata": {
        "id": "pPqizuM93vqO"
      },
      "execution_count": 10,
      "outputs": []
    },
    {
      "cell_type": "code",
      "source": [
        "cordoba_vuelo"
      ],
      "metadata": {
        "id": "pGYpUv_U7FwY",
        "colab": {
          "base_uri": "https://localhost:8080/",
          "height": 990
        },
        "outputId": "11a3e0a7-dc40-4fd2-bffd-0be4926b18ef"
      },
      "execution_count": 12,
      "outputs": [
        {
          "output_type": "execute_result",
          "data": {
            "text/plain": [
              "     origen destino                compania  escalaida  tiempoida  \\\n",
              "0   CORDOBA  MADRID  Aerolíneas Argentinas           1  20.500000   \n",
              "1   CORDOBA  MADRID                  LATAM           2  48.266667   \n",
              "2   CORDOBA  MADRID                  LATAM           2  50.166667   \n",
              "3   CORDOBA  MADRID  Aerolíneas Argentinas           1  20.500000   \n",
              "4   CORDOBA  MADRID                  LATAM           2  48.266667   \n",
              "5   CORDOBA  MADRID                  LATAM           2  50.166667   \n",
              "6   CORDOBA  MADRID                  LATAM           2  48.266667   \n",
              "7   CORDOBA  MADRID                  LATAM           2  50.166667   \n",
              "8   CORDOBA  MADRID                  LATAM           2  47.083333   \n",
              "9   CORDOBA  MADRID                  LATAM           2  45.350000   \n",
              "10  CORDOBA  MADRID                  LATAM           2  47.083333   \n",
              "11  CORDOBA  MADRID                  LATAM           2  50.166667   \n",
              "12  CORDOBA  MADRID                  LATAM           2  45.350000   \n",
              "13  CORDOBA  MADRID                  LATAM           2  45.350000   \n",
              "14  CORDOBA  MADRID                  LATAM           2  21.350000   \n",
              "15  CORDOBA  MADRID                  LATAM           2  21.350000   \n",
              "16  CORDOBA  MADRID                  LATAM           2  50.166667   \n",
              "17  CORDOBA  MADRID                  LATAM           2  45.350000   \n",
              "18  CORDOBA  MADRID                  LATAM           2  46.183333   \n",
              "19  CORDOBA  MADRID                  LATAM           2  21.350000   \n",
              "20  CORDOBA  MADRID                  LATAM           2  45.350000   \n",
              "21  CORDOBA  MADRID                  LATAM           2  45.350000   \n",
              "22  CORDOBA  MADRID                  LATAM           2  21.350000   \n",
              "23  CORDOBA  MADRID                  LATAM           2  50.166667   \n",
              "24  CORDOBA  MADRID                  LATAM           2  48.266667   \n",
              "25  CORDOBA  MADRID                  LATAM           2  50.166667   \n",
              "26  CORDOBA  MADRID                  LATAM           2  45.350000   \n",
              "27  CORDOBA  MADRID                  LATAM           2  48.266667   \n",
              "28  CORDOBA  MADRID                  LATAM           2  25.833333   \n",
              "29  CORDOBA  MADRID                  LATAM           2  48.266667   \n",
              "\n",
              "    escalavuelta  tiempovuelta   precio  \n",
              "0              1     17.750000  497.792  \n",
              "1              2     38.050000  441.945  \n",
              "2              2     38.050000  438.009  \n",
              "3              1     18.583333  557.065  \n",
              "4              2     49.083333  421.023  \n",
              "5              2     49.083333  417.085  \n",
              "6              1     33.333333  469.129  \n",
              "7              1     33.333333  465.192  \n",
              "8              2     38.050000  461.093  \n",
              "9              2     38.050000  468.619  \n",
              "10             2     49.083333  440.171  \n",
              "11             2     38.050000  461.644  \n",
              "12             2     38.050000  473.718  \n",
              "13             2     49.083333  447.308  \n",
              "14             2     38.050000  532.550  \n",
              "15             2     38.050000  532.550  \n",
              "16             2     49.083333  439.172  \n",
              "17             2     49.083333  452.407  \n",
              "18             2     49.083333  450.795  \n",
              "19             2     49.083333  511.626  \n",
              "20             1     33.333333  495.415  \n",
              "21             1     33.333333  500.513  \n",
              "22             1     33.333333  559.732  \n",
              "23             1     33.333333  492.702  \n",
              "24             2     34.050000  496.127  \n",
              "25             2     38.050000  492.192  \n",
              "26             2     38.050000  494.905  \n",
              "27             2     38.050000  489.216  \n",
              "28             1     33.333333  555.083  \n",
              "29             2     34.050000  501.226  "
            ],
            "text/html": [
              "\n",
              "  <div id=\"df-a82efeb8-47fc-41b9-b470-5ffb3ccf7884\">\n",
              "    <div class=\"colab-df-container\">\n",
              "      <div>\n",
              "<style scoped>\n",
              "    .dataframe tbody tr th:only-of-type {\n",
              "        vertical-align: middle;\n",
              "    }\n",
              "\n",
              "    .dataframe tbody tr th {\n",
              "        vertical-align: top;\n",
              "    }\n",
              "\n",
              "    .dataframe thead th {\n",
              "        text-align: right;\n",
              "    }\n",
              "</style>\n",
              "<table border=\"1\" class=\"dataframe\">\n",
              "  <thead>\n",
              "    <tr style=\"text-align: right;\">\n",
              "      <th></th>\n",
              "      <th>origen</th>\n",
              "      <th>destino</th>\n",
              "      <th>compania</th>\n",
              "      <th>escalaida</th>\n",
              "      <th>tiempoida</th>\n",
              "      <th>escalavuelta</th>\n",
              "      <th>tiempovuelta</th>\n",
              "      <th>precio</th>\n",
              "    </tr>\n",
              "  </thead>\n",
              "  <tbody>\n",
              "    <tr>\n",
              "      <th>0</th>\n",
              "      <td>CORDOBA</td>\n",
              "      <td>MADRID</td>\n",
              "      <td>Aerolíneas Argentinas</td>\n",
              "      <td>1</td>\n",
              "      <td>20.500000</td>\n",
              "      <td>1</td>\n",
              "      <td>17.750000</td>\n",
              "      <td>497.792</td>\n",
              "    </tr>\n",
              "    <tr>\n",
              "      <th>1</th>\n",
              "      <td>CORDOBA</td>\n",
              "      <td>MADRID</td>\n",
              "      <td>LATAM</td>\n",
              "      <td>2</td>\n",
              "      <td>48.266667</td>\n",
              "      <td>2</td>\n",
              "      <td>38.050000</td>\n",
              "      <td>441.945</td>\n",
              "    </tr>\n",
              "    <tr>\n",
              "      <th>2</th>\n",
              "      <td>CORDOBA</td>\n",
              "      <td>MADRID</td>\n",
              "      <td>LATAM</td>\n",
              "      <td>2</td>\n",
              "      <td>50.166667</td>\n",
              "      <td>2</td>\n",
              "      <td>38.050000</td>\n",
              "      <td>438.009</td>\n",
              "    </tr>\n",
              "    <tr>\n",
              "      <th>3</th>\n",
              "      <td>CORDOBA</td>\n",
              "      <td>MADRID</td>\n",
              "      <td>Aerolíneas Argentinas</td>\n",
              "      <td>1</td>\n",
              "      <td>20.500000</td>\n",
              "      <td>1</td>\n",
              "      <td>18.583333</td>\n",
              "      <td>557.065</td>\n",
              "    </tr>\n",
              "    <tr>\n",
              "      <th>4</th>\n",
              "      <td>CORDOBA</td>\n",
              "      <td>MADRID</td>\n",
              "      <td>LATAM</td>\n",
              "      <td>2</td>\n",
              "      <td>48.266667</td>\n",
              "      <td>2</td>\n",
              "      <td>49.083333</td>\n",
              "      <td>421.023</td>\n",
              "    </tr>\n",
              "    <tr>\n",
              "      <th>5</th>\n",
              "      <td>CORDOBA</td>\n",
              "      <td>MADRID</td>\n",
              "      <td>LATAM</td>\n",
              "      <td>2</td>\n",
              "      <td>50.166667</td>\n",
              "      <td>2</td>\n",
              "      <td>49.083333</td>\n",
              "      <td>417.085</td>\n",
              "    </tr>\n",
              "    <tr>\n",
              "      <th>6</th>\n",
              "      <td>CORDOBA</td>\n",
              "      <td>MADRID</td>\n",
              "      <td>LATAM</td>\n",
              "      <td>2</td>\n",
              "      <td>48.266667</td>\n",
              "      <td>1</td>\n",
              "      <td>33.333333</td>\n",
              "      <td>469.129</td>\n",
              "    </tr>\n",
              "    <tr>\n",
              "      <th>7</th>\n",
              "      <td>CORDOBA</td>\n",
              "      <td>MADRID</td>\n",
              "      <td>LATAM</td>\n",
              "      <td>2</td>\n",
              "      <td>50.166667</td>\n",
              "      <td>1</td>\n",
              "      <td>33.333333</td>\n",
              "      <td>465.192</td>\n",
              "    </tr>\n",
              "    <tr>\n",
              "      <th>8</th>\n",
              "      <td>CORDOBA</td>\n",
              "      <td>MADRID</td>\n",
              "      <td>LATAM</td>\n",
              "      <td>2</td>\n",
              "      <td>47.083333</td>\n",
              "      <td>2</td>\n",
              "      <td>38.050000</td>\n",
              "      <td>461.093</td>\n",
              "    </tr>\n",
              "    <tr>\n",
              "      <th>9</th>\n",
              "      <td>CORDOBA</td>\n",
              "      <td>MADRID</td>\n",
              "      <td>LATAM</td>\n",
              "      <td>2</td>\n",
              "      <td>45.350000</td>\n",
              "      <td>2</td>\n",
              "      <td>38.050000</td>\n",
              "      <td>468.619</td>\n",
              "    </tr>\n",
              "    <tr>\n",
              "      <th>10</th>\n",
              "      <td>CORDOBA</td>\n",
              "      <td>MADRID</td>\n",
              "      <td>LATAM</td>\n",
              "      <td>2</td>\n",
              "      <td>47.083333</td>\n",
              "      <td>2</td>\n",
              "      <td>49.083333</td>\n",
              "      <td>440.171</td>\n",
              "    </tr>\n",
              "    <tr>\n",
              "      <th>11</th>\n",
              "      <td>CORDOBA</td>\n",
              "      <td>MADRID</td>\n",
              "      <td>LATAM</td>\n",
              "      <td>2</td>\n",
              "      <td>50.166667</td>\n",
              "      <td>2</td>\n",
              "      <td>38.050000</td>\n",
              "      <td>461.644</td>\n",
              "    </tr>\n",
              "    <tr>\n",
              "      <th>12</th>\n",
              "      <td>CORDOBA</td>\n",
              "      <td>MADRID</td>\n",
              "      <td>LATAM</td>\n",
              "      <td>2</td>\n",
              "      <td>45.350000</td>\n",
              "      <td>2</td>\n",
              "      <td>38.050000</td>\n",
              "      <td>473.718</td>\n",
              "    </tr>\n",
              "    <tr>\n",
              "      <th>13</th>\n",
              "      <td>CORDOBA</td>\n",
              "      <td>MADRID</td>\n",
              "      <td>LATAM</td>\n",
              "      <td>2</td>\n",
              "      <td>45.350000</td>\n",
              "      <td>2</td>\n",
              "      <td>49.083333</td>\n",
              "      <td>447.308</td>\n",
              "    </tr>\n",
              "    <tr>\n",
              "      <th>14</th>\n",
              "      <td>CORDOBA</td>\n",
              "      <td>MADRID</td>\n",
              "      <td>LATAM</td>\n",
              "      <td>2</td>\n",
              "      <td>21.350000</td>\n",
              "      <td>2</td>\n",
              "      <td>38.050000</td>\n",
              "      <td>532.550</td>\n",
              "    </tr>\n",
              "    <tr>\n",
              "      <th>15</th>\n",
              "      <td>CORDOBA</td>\n",
              "      <td>MADRID</td>\n",
              "      <td>LATAM</td>\n",
              "      <td>2</td>\n",
              "      <td>21.350000</td>\n",
              "      <td>2</td>\n",
              "      <td>38.050000</td>\n",
              "      <td>532.550</td>\n",
              "    </tr>\n",
              "    <tr>\n",
              "      <th>16</th>\n",
              "      <td>CORDOBA</td>\n",
              "      <td>MADRID</td>\n",
              "      <td>LATAM</td>\n",
              "      <td>2</td>\n",
              "      <td>50.166667</td>\n",
              "      <td>2</td>\n",
              "      <td>49.083333</td>\n",
              "      <td>439.172</td>\n",
              "    </tr>\n",
              "    <tr>\n",
              "      <th>17</th>\n",
              "      <td>CORDOBA</td>\n",
              "      <td>MADRID</td>\n",
              "      <td>LATAM</td>\n",
              "      <td>2</td>\n",
              "      <td>45.350000</td>\n",
              "      <td>2</td>\n",
              "      <td>49.083333</td>\n",
              "      <td>452.407</td>\n",
              "    </tr>\n",
              "    <tr>\n",
              "      <th>18</th>\n",
              "      <td>CORDOBA</td>\n",
              "      <td>MADRID</td>\n",
              "      <td>LATAM</td>\n",
              "      <td>2</td>\n",
              "      <td>46.183333</td>\n",
              "      <td>2</td>\n",
              "      <td>49.083333</td>\n",
              "      <td>450.795</td>\n",
              "    </tr>\n",
              "    <tr>\n",
              "      <th>19</th>\n",
              "      <td>CORDOBA</td>\n",
              "      <td>MADRID</td>\n",
              "      <td>LATAM</td>\n",
              "      <td>2</td>\n",
              "      <td>21.350000</td>\n",
              "      <td>2</td>\n",
              "      <td>49.083333</td>\n",
              "      <td>511.626</td>\n",
              "    </tr>\n",
              "    <tr>\n",
              "      <th>20</th>\n",
              "      <td>CORDOBA</td>\n",
              "      <td>MADRID</td>\n",
              "      <td>LATAM</td>\n",
              "      <td>2</td>\n",
              "      <td>45.350000</td>\n",
              "      <td>1</td>\n",
              "      <td>33.333333</td>\n",
              "      <td>495.415</td>\n",
              "    </tr>\n",
              "    <tr>\n",
              "      <th>21</th>\n",
              "      <td>CORDOBA</td>\n",
              "      <td>MADRID</td>\n",
              "      <td>LATAM</td>\n",
              "      <td>2</td>\n",
              "      <td>45.350000</td>\n",
              "      <td>1</td>\n",
              "      <td>33.333333</td>\n",
              "      <td>500.513</td>\n",
              "    </tr>\n",
              "    <tr>\n",
              "      <th>22</th>\n",
              "      <td>CORDOBA</td>\n",
              "      <td>MADRID</td>\n",
              "      <td>LATAM</td>\n",
              "      <td>2</td>\n",
              "      <td>21.350000</td>\n",
              "      <td>1</td>\n",
              "      <td>33.333333</td>\n",
              "      <td>559.732</td>\n",
              "    </tr>\n",
              "    <tr>\n",
              "      <th>23</th>\n",
              "      <td>CORDOBA</td>\n",
              "      <td>MADRID</td>\n",
              "      <td>LATAM</td>\n",
              "      <td>2</td>\n",
              "      <td>50.166667</td>\n",
              "      <td>1</td>\n",
              "      <td>33.333333</td>\n",
              "      <td>492.702</td>\n",
              "    </tr>\n",
              "    <tr>\n",
              "      <th>24</th>\n",
              "      <td>CORDOBA</td>\n",
              "      <td>MADRID</td>\n",
              "      <td>LATAM</td>\n",
              "      <td>2</td>\n",
              "      <td>48.266667</td>\n",
              "      <td>2</td>\n",
              "      <td>34.050000</td>\n",
              "      <td>496.127</td>\n",
              "    </tr>\n",
              "    <tr>\n",
              "      <th>25</th>\n",
              "      <td>CORDOBA</td>\n",
              "      <td>MADRID</td>\n",
              "      <td>LATAM</td>\n",
              "      <td>2</td>\n",
              "      <td>50.166667</td>\n",
              "      <td>2</td>\n",
              "      <td>38.050000</td>\n",
              "      <td>492.192</td>\n",
              "    </tr>\n",
              "    <tr>\n",
              "      <th>26</th>\n",
              "      <td>CORDOBA</td>\n",
              "      <td>MADRID</td>\n",
              "      <td>LATAM</td>\n",
              "      <td>2</td>\n",
              "      <td>45.350000</td>\n",
              "      <td>2</td>\n",
              "      <td>38.050000</td>\n",
              "      <td>494.905</td>\n",
              "    </tr>\n",
              "    <tr>\n",
              "      <th>27</th>\n",
              "      <td>CORDOBA</td>\n",
              "      <td>MADRID</td>\n",
              "      <td>LATAM</td>\n",
              "      <td>2</td>\n",
              "      <td>48.266667</td>\n",
              "      <td>2</td>\n",
              "      <td>38.050000</td>\n",
              "      <td>489.216</td>\n",
              "    </tr>\n",
              "    <tr>\n",
              "      <th>28</th>\n",
              "      <td>CORDOBA</td>\n",
              "      <td>MADRID</td>\n",
              "      <td>LATAM</td>\n",
              "      <td>2</td>\n",
              "      <td>25.833333</td>\n",
              "      <td>1</td>\n",
              "      <td>33.333333</td>\n",
              "      <td>555.083</td>\n",
              "    </tr>\n",
              "    <tr>\n",
              "      <th>29</th>\n",
              "      <td>CORDOBA</td>\n",
              "      <td>MADRID</td>\n",
              "      <td>LATAM</td>\n",
              "      <td>2</td>\n",
              "      <td>48.266667</td>\n",
              "      <td>2</td>\n",
              "      <td>34.050000</td>\n",
              "      <td>501.226</td>\n",
              "    </tr>\n",
              "  </tbody>\n",
              "</table>\n",
              "</div>\n",
              "      <button class=\"colab-df-convert\" onclick=\"convertToInteractive('df-a82efeb8-47fc-41b9-b470-5ffb3ccf7884')\"\n",
              "              title=\"Convert this dataframe to an interactive table.\"\n",
              "              style=\"display:none;\">\n",
              "        \n",
              "  <svg xmlns=\"http://www.w3.org/2000/svg\" height=\"24px\"viewBox=\"0 0 24 24\"\n",
              "       width=\"24px\">\n",
              "    <path d=\"M0 0h24v24H0V0z\" fill=\"none\"/>\n",
              "    <path d=\"M18.56 5.44l.94 2.06.94-2.06 2.06-.94-2.06-.94-.94-2.06-.94 2.06-2.06.94zm-11 1L8.5 8.5l.94-2.06 2.06-.94-2.06-.94L8.5 2.5l-.94 2.06-2.06.94zm10 10l.94 2.06.94-2.06 2.06-.94-2.06-.94-.94-2.06-.94 2.06-2.06.94z\"/><path d=\"M17.41 7.96l-1.37-1.37c-.4-.4-.92-.59-1.43-.59-.52 0-1.04.2-1.43.59L10.3 9.45l-7.72 7.72c-.78.78-.78 2.05 0 2.83L4 21.41c.39.39.9.59 1.41.59.51 0 1.02-.2 1.41-.59l7.78-7.78 2.81-2.81c.8-.78.8-2.07 0-2.86zM5.41 20L4 18.59l7.72-7.72 1.47 1.35L5.41 20z\"/>\n",
              "  </svg>\n",
              "      </button>\n",
              "      \n",
              "  <style>\n",
              "    .colab-df-container {\n",
              "      display:flex;\n",
              "      flex-wrap:wrap;\n",
              "      gap: 12px;\n",
              "    }\n",
              "\n",
              "    .colab-df-convert {\n",
              "      background-color: #E8F0FE;\n",
              "      border: none;\n",
              "      border-radius: 50%;\n",
              "      cursor: pointer;\n",
              "      display: none;\n",
              "      fill: #1967D2;\n",
              "      height: 32px;\n",
              "      padding: 0 0 0 0;\n",
              "      width: 32px;\n",
              "    }\n",
              "\n",
              "    .colab-df-convert:hover {\n",
              "      background-color: #E2EBFA;\n",
              "      box-shadow: 0px 1px 2px rgba(60, 64, 67, 0.3), 0px 1px 3px 1px rgba(60, 64, 67, 0.15);\n",
              "      fill: #174EA6;\n",
              "    }\n",
              "\n",
              "    [theme=dark] .colab-df-convert {\n",
              "      background-color: #3B4455;\n",
              "      fill: #D2E3FC;\n",
              "    }\n",
              "\n",
              "    [theme=dark] .colab-df-convert:hover {\n",
              "      background-color: #434B5C;\n",
              "      box-shadow: 0px 1px 3px 1px rgba(0, 0, 0, 0.15);\n",
              "      filter: drop-shadow(0px 1px 2px rgba(0, 0, 0, 0.3));\n",
              "      fill: #FFFFFF;\n",
              "    }\n",
              "  </style>\n",
              "\n",
              "      <script>\n",
              "        const buttonEl =\n",
              "          document.querySelector('#df-a82efeb8-47fc-41b9-b470-5ffb3ccf7884 button.colab-df-convert');\n",
              "        buttonEl.style.display =\n",
              "          google.colab.kernel.accessAllowed ? 'block' : 'none';\n",
              "\n",
              "        async function convertToInteractive(key) {\n",
              "          const element = document.querySelector('#df-a82efeb8-47fc-41b9-b470-5ffb3ccf7884');\n",
              "          const dataTable =\n",
              "            await google.colab.kernel.invokeFunction('convertToInteractive',\n",
              "                                                     [key], {});\n",
              "          if (!dataTable) return;\n",
              "\n",
              "          const docLinkHtml = 'Like what you see? Visit the ' +\n",
              "            '<a target=\"_blank\" href=https://colab.research.google.com/notebooks/data_table.ipynb>data table notebook</a>'\n",
              "            + ' to learn more about interactive tables.';\n",
              "          element.innerHTML = '';\n",
              "          dataTable['output_type'] = 'display_data';\n",
              "          await google.colab.output.renderOutput(dataTable, element);\n",
              "          const docLink = document.createElement('div');\n",
              "          docLink.innerHTML = docLinkHtml;\n",
              "          element.appendChild(docLink);\n",
              "        }\n",
              "      </script>\n",
              "    </div>\n",
              "  </div>\n",
              "  "
            ]
          },
          "metadata": {},
          "execution_count": 12
        }
      ]
    },
    {
      "cell_type": "markdown",
      "source": [
        "Se muestan los resultados que solo tengan una escala"
      ],
      "metadata": {
        "id": "BNkyFFRs8Ijo"
      }
    },
    {
      "cell_type": "code",
      "source": [
        "filt = (cordoba_vuelo['escalaida'] == 1) & (cordoba_vuelo['escalavuelta'] == 1)\n",
        "cordoba_vuelo.loc[filt]"
      ],
      "metadata": {
        "colab": {
          "base_uri": "https://localhost:8080/",
          "height": 112
        },
        "id": "KrzbkrRJWqac",
        "outputId": "dbf94e95-d0ff-44dd-f31b-9e886fda3b77"
      },
      "execution_count": 13,
      "outputs": [
        {
          "output_type": "execute_result",
          "data": {
            "text/plain": [
              "    origen destino                compania  escalaida  tiempoida  \\\n",
              "0  CORDOBA  MADRID  Aerolíneas Argentinas           1       20.5   \n",
              "3  CORDOBA  MADRID  Aerolíneas Argentinas           1       20.5   \n",
              "\n",
              "   escalavuelta  tiempovuelta   precio  \n",
              "0             1     17.750000  497.792  \n",
              "3             1     18.583333  557.065  "
            ],
            "text/html": [
              "\n",
              "  <div id=\"df-374e7b58-f005-4c0d-a07b-7f2ecbe14463\">\n",
              "    <div class=\"colab-df-container\">\n",
              "      <div>\n",
              "<style scoped>\n",
              "    .dataframe tbody tr th:only-of-type {\n",
              "        vertical-align: middle;\n",
              "    }\n",
              "\n",
              "    .dataframe tbody tr th {\n",
              "        vertical-align: top;\n",
              "    }\n",
              "\n",
              "    .dataframe thead th {\n",
              "        text-align: right;\n",
              "    }\n",
              "</style>\n",
              "<table border=\"1\" class=\"dataframe\">\n",
              "  <thead>\n",
              "    <tr style=\"text-align: right;\">\n",
              "      <th></th>\n",
              "      <th>origen</th>\n",
              "      <th>destino</th>\n",
              "      <th>compania</th>\n",
              "      <th>escalaida</th>\n",
              "      <th>tiempoida</th>\n",
              "      <th>escalavuelta</th>\n",
              "      <th>tiempovuelta</th>\n",
              "      <th>precio</th>\n",
              "    </tr>\n",
              "  </thead>\n",
              "  <tbody>\n",
              "    <tr>\n",
              "      <th>0</th>\n",
              "      <td>CORDOBA</td>\n",
              "      <td>MADRID</td>\n",
              "      <td>Aerolíneas Argentinas</td>\n",
              "      <td>1</td>\n",
              "      <td>20.5</td>\n",
              "      <td>1</td>\n",
              "      <td>17.750000</td>\n",
              "      <td>497.792</td>\n",
              "    </tr>\n",
              "    <tr>\n",
              "      <th>3</th>\n",
              "      <td>CORDOBA</td>\n",
              "      <td>MADRID</td>\n",
              "      <td>Aerolíneas Argentinas</td>\n",
              "      <td>1</td>\n",
              "      <td>20.5</td>\n",
              "      <td>1</td>\n",
              "      <td>18.583333</td>\n",
              "      <td>557.065</td>\n",
              "    </tr>\n",
              "  </tbody>\n",
              "</table>\n",
              "</div>\n",
              "      <button class=\"colab-df-convert\" onclick=\"convertToInteractive('df-374e7b58-f005-4c0d-a07b-7f2ecbe14463')\"\n",
              "              title=\"Convert this dataframe to an interactive table.\"\n",
              "              style=\"display:none;\">\n",
              "        \n",
              "  <svg xmlns=\"http://www.w3.org/2000/svg\" height=\"24px\"viewBox=\"0 0 24 24\"\n",
              "       width=\"24px\">\n",
              "    <path d=\"M0 0h24v24H0V0z\" fill=\"none\"/>\n",
              "    <path d=\"M18.56 5.44l.94 2.06.94-2.06 2.06-.94-2.06-.94-.94-2.06-.94 2.06-2.06.94zm-11 1L8.5 8.5l.94-2.06 2.06-.94-2.06-.94L8.5 2.5l-.94 2.06-2.06.94zm10 10l.94 2.06.94-2.06 2.06-.94-2.06-.94-.94-2.06-.94 2.06-2.06.94z\"/><path d=\"M17.41 7.96l-1.37-1.37c-.4-.4-.92-.59-1.43-.59-.52 0-1.04.2-1.43.59L10.3 9.45l-7.72 7.72c-.78.78-.78 2.05 0 2.83L4 21.41c.39.39.9.59 1.41.59.51 0 1.02-.2 1.41-.59l7.78-7.78 2.81-2.81c.8-.78.8-2.07 0-2.86zM5.41 20L4 18.59l7.72-7.72 1.47 1.35L5.41 20z\"/>\n",
              "  </svg>\n",
              "      </button>\n",
              "      \n",
              "  <style>\n",
              "    .colab-df-container {\n",
              "      display:flex;\n",
              "      flex-wrap:wrap;\n",
              "      gap: 12px;\n",
              "    }\n",
              "\n",
              "    .colab-df-convert {\n",
              "      background-color: #E8F0FE;\n",
              "      border: none;\n",
              "      border-radius: 50%;\n",
              "      cursor: pointer;\n",
              "      display: none;\n",
              "      fill: #1967D2;\n",
              "      height: 32px;\n",
              "      padding: 0 0 0 0;\n",
              "      width: 32px;\n",
              "    }\n",
              "\n",
              "    .colab-df-convert:hover {\n",
              "      background-color: #E2EBFA;\n",
              "      box-shadow: 0px 1px 2px rgba(60, 64, 67, 0.3), 0px 1px 3px 1px rgba(60, 64, 67, 0.15);\n",
              "      fill: #174EA6;\n",
              "    }\n",
              "\n",
              "    [theme=dark] .colab-df-convert {\n",
              "      background-color: #3B4455;\n",
              "      fill: #D2E3FC;\n",
              "    }\n",
              "\n",
              "    [theme=dark] .colab-df-convert:hover {\n",
              "      background-color: #434B5C;\n",
              "      box-shadow: 0px 1px 3px 1px rgba(0, 0, 0, 0.15);\n",
              "      filter: drop-shadow(0px 1px 2px rgba(0, 0, 0, 0.3));\n",
              "      fill: #FFFFFF;\n",
              "    }\n",
              "  </style>\n",
              "\n",
              "      <script>\n",
              "        const buttonEl =\n",
              "          document.querySelector('#df-374e7b58-f005-4c0d-a07b-7f2ecbe14463 button.colab-df-convert');\n",
              "        buttonEl.style.display =\n",
              "          google.colab.kernel.accessAllowed ? 'block' : 'none';\n",
              "\n",
              "        async function convertToInteractive(key) {\n",
              "          const element = document.querySelector('#df-374e7b58-f005-4c0d-a07b-7f2ecbe14463');\n",
              "          const dataTable =\n",
              "            await google.colab.kernel.invokeFunction('convertToInteractive',\n",
              "                                                     [key], {});\n",
              "          if (!dataTable) return;\n",
              "\n",
              "          const docLinkHtml = 'Like what you see? Visit the ' +\n",
              "            '<a target=\"_blank\" href=https://colab.research.google.com/notebooks/data_table.ipynb>data table notebook</a>'\n",
              "            + ' to learn more about interactive tables.';\n",
              "          element.innerHTML = '';\n",
              "          dataTable['output_type'] = 'display_data';\n",
              "          await google.colab.output.renderOutput(dataTable, element);\n",
              "          const docLink = document.createElement('div');\n",
              "          docLink.innerHTML = docLinkHtml;\n",
              "          element.appendChild(docLink);\n",
              "        }\n",
              "      </script>\n",
              "    </div>\n",
              "  </div>\n",
              "  "
            ]
          },
          "metadata": {},
          "execution_count": 13
        }
      ]
    },
    {
      "cell_type": "markdown",
      "source": [
        "Vuelo de mayor precio\n"
      ],
      "metadata": {
        "id": "RX3CggO98S0F"
      }
    },
    {
      "cell_type": "code",
      "source": [
        "filt = cordoba_vuelo['precio'].idxmax()\n",
        "cordoba_vuelo.loc[filt]"
      ],
      "metadata": {
        "colab": {
          "base_uri": "https://localhost:8080/"
        },
        "id": "pc6m9pm-3DzS",
        "outputId": "913a886e-1ac4-46d3-f116-722d74ff70da"
      },
      "execution_count": 14,
      "outputs": [
        {
          "output_type": "execute_result",
          "data": {
            "text/plain": [
              "origen            CORDOBA\n",
              "destino            MADRID\n",
              "compania           LATAM \n",
              "escalaida               2\n",
              "tiempoida           21.35\n",
              "escalavuelta            1\n",
              "tiempovuelta    33.333333\n",
              "precio            559.732\n",
              "Name: 22, dtype: object"
            ]
          },
          "metadata": {},
          "execution_count": 14
        }
      ]
    },
    {
      "cell_type": "markdown",
      "source": [
        "Vuelo de menor precio"
      ],
      "metadata": {
        "id": "uTwzK81q8coR"
      }
    },
    {
      "cell_type": "code",
      "source": [
        "filt = cordoba_vuelo['precio'].idxmin()\n",
        "cordoba_vuelo.loc[filt]"
      ],
      "metadata": {
        "colab": {
          "base_uri": "https://localhost:8080/"
        },
        "id": "BXmuzidT6aWI",
        "outputId": "388a2cd6-7faf-47ef-f4cb-4adf9ad2c8de"
      },
      "execution_count": 15,
      "outputs": [
        {
          "output_type": "execute_result",
          "data": {
            "text/plain": [
              "origen            CORDOBA\n",
              "destino            MADRID\n",
              "compania           LATAM \n",
              "escalaida               2\n",
              "tiempoida       50.166667\n",
              "escalavuelta            2\n",
              "tiempovuelta    49.083333\n",
              "precio            417.085\n",
              "Name: 5, dtype: object"
            ]
          },
          "metadata": {},
          "execution_count": 15
        }
      ]
    },
    {
      "cell_type": "markdown",
      "source": [
        "Mediana de los vuelos"
      ],
      "metadata": {
        "id": "X_D6sMrD_y99"
      }
    },
    {
      "cell_type": "code",
      "source": [
        "cordoba_vuelo['precio'].median()\n"
      ],
      "metadata": {
        "colab": {
          "base_uri": "https://localhost:8080/"
        },
        "id": "X4nqZ2iS9Nrg",
        "outputId": "9adeea6c-c51e-4746-d611-6e27c2c3605f"
      },
      "execution_count": 16,
      "outputs": [
        {
          "output_type": "execute_result",
          "data": {
            "text/plain": [
              "481.467"
            ]
          },
          "metadata": {},
          "execution_count": 16
        }
      ]
    },
    {
      "cell_type": "markdown",
      "source": [
        "Gráfico de Precios"
      ],
      "metadata": {
        "id": "HfAldqPZBUnF"
      }
    },
    {
      "cell_type": "code",
      "source": [
        "cordoba_vuelo[['precio']].plot()"
      ],
      "metadata": {
        "colab": {
          "base_uri": "https://localhost:8080/",
          "height": 282
        },
        "id": "VUPC3YTh-Re1",
        "outputId": "47eac770-6d7e-4013-c135-37b27f562f8b"
      },
      "execution_count": 17,
      "outputs": [
        {
          "output_type": "execute_result",
          "data": {
            "text/plain": [
              "<matplotlib.axes._subplots.AxesSubplot at 0x7f7a5efb0c90>"
            ]
          },
          "metadata": {},
          "execution_count": 17
        },
        {
          "output_type": "display_data",
          "data": {
            "text/plain": [
              "<Figure size 432x288 with 1 Axes>"
            ],
            "image/png": "[encoded data removed]"
          },
          "metadata": {
            "needs_background": "light"
          }
        }
      ]
    },
    {
      "cell_type": "code",
      "source": [
        "cordoba_vuelo[['precio']].plot(kind='bar')"
      ],
      "metadata": {
        "colab": {
          "base_uri": "https://localhost:8080/",
          "height": 285
        },
        "id": "QACbFjWz-pKE",
        "outputId": "93fcb80e-4925-482a-ba91-af4120b84018"
      },
      "execution_count": 18,
      "outputs": [
        {
          "output_type": "execute_result",
          "data": {
            "text/plain": [
              "<matplotlib.axes._subplots.AxesSubplot at 0x7f7a5efea110>"
            ]
          },
          "metadata": {},
          "execution_count": 18
        },
        {
          "output_type": "display_data",
          "data": {
            "text/plain": [
              "<Figure size 432x288 with 1 Axes>"
            ],
            "image/png": "[encoded data removed]"
          },
          "metadata": {
            "needs_background": "light"
          }
        }
      ]
    },
    {
      "cell_type": "markdown",
      "source": [
        "Se conecta al sitio web despegar. Se busca los vuelos Buenos Aires - Madrid"
      ],
      "metadata": {
        "id": "phTtBd5tU8jY"
      }
    },
    {
      "cell_type": "code",
      "source": [
        "soup = resultado('https://www.despegar.com.ar/shop/flights/results/roundtrip/BUE/MAD/2022-12-01/2022-12-14/1/0/0/NA/NA/NA/NA/NA?from=SB&di=1-0')"
      ],
      "metadata": {
        "id": "PQfUHUB727_B"
      },
      "execution_count": 19,
      "outputs": []
    },
    {
      "cell_type": "code",
      "source": [
        "name = soup.find_all('cluster', class_='COMMON')\n",
        "for link in name:\n",
        "  compania = link.find('span', class_='name').get_text().lstrip()\n",
        "  precio = link.find('span', class_='fare-wrapper -eva-3-p-md').find_all('span', class_='amount price-amount')[0].get_text()\n",
        "  way = link.find_all('span', class_='sub-cluster');\n",
        "  ida = way[0].find('span', class_='stops-wrapper text').get_text() \n",
        "  vuelta = way[1].find('span', class_='stops-wrapper text').get_text() \n",
        "  escala_ida = ida[1]\n",
        "  if not escala_ida.isnumeric():\n",
        "    escala_ida = '0'\n",
        "  minutos_i = ida[16:19].lstrip().replace('m','')\n",
        "  if minutos_i == '':\n",
        "    minutos_i = '0'\n",
        "  horas_i = ida[10:14].lstrip().replace('h','')\n",
        "  tiempo_ida = str(float(horas_i) + (float(minutos_i) / 60))\n",
        "  escala_vuelta = vuelta[1]\n",
        "  if not escala_vuelta.isnumeric():\n",
        "    escala_vuelta = '0'     \n",
        "  minutos = vuelta[16:18].lstrip().replace('m','')\n",
        "  if minutos == '':\n",
        "    minutos = '0'\n",
        "  horas_v = vuelta[10:14].lstrip().replace('h','')  \n",
        "  tiempo_vuelta = str(float(horas_v) + (float(minutos) / 60))\n",
        "  cur.execute(\"INSERT INTO vuelo VALUES ({}, {}, '{}', {}, {}, {}, {}, {})\".format(3, 2, compania, escala_ida, tiempo_ida, escala_vuelta, tiempo_vuelta, precio))\n",
        "  conn.commit()\n"
      ],
      "metadata": {
        "id": "_UfZlTb8HcIi"
      },
      "execution_count": 20,
      "outputs": []
    },
    {
      "cell_type": "code",
      "source": [
        "bsas_vuelo = pd.read_sql(\"SELECT L.descripcion as origen, L2.descripcion as destino, V.compania, V.escalaida, V.tiempoida, V.escalavuelta, V.tiempovuelta, V.precio FROM vuelo V INNER JOIN lugar L ON V.origen = L.rowid INNER JOIN lugar L2 on V.destino = L2.rowid where V.origen = 3 and V.destino = 2\", conn)"
      ],
      "metadata": {
        "id": "mRgI32HjVTOw"
      },
      "execution_count": 21,
      "outputs": []
    },
    {
      "cell_type": "code",
      "source": [
        "bsas_vuelo"
      ],
      "metadata": {
        "colab": {
          "base_uri": "https://localhost:8080/",
          "height": 802
        },
        "id": "qeUim_yaVdEO",
        "outputId": "41d3af01-83a1-4081-c22a-3e1b6b8208ca"
      },
      "execution_count": 22,
      "outputs": [
        {
          "output_type": "execute_result",
          "data": {
            "text/plain": [
              "          origen destino                compania  escalaida  tiempoida  \\\n",
              "0   BUENOS-AIRES  MADRID                  LATAM           2  23.000000   \n",
              "1   BUENOS-AIRES  MADRID                  LATAM           2  23.000000   \n",
              "2   BUENOS-AIRES  MADRID                  LATAM           2  23.000000   \n",
              "3   BUENOS-AIRES  MADRID                  LATAM           2  23.666667   \n",
              "4   BUENOS-AIRES  MADRID                  LATAM           2  23.000000   \n",
              "5   BUENOS-AIRES  MADRID                  LATAM           1  14.750000   \n",
              "6   BUENOS-AIRES  MADRID                  LATAM           2  23.666667   \n",
              "7   BUENOS-AIRES  MADRID                  LATAM           1  14.750000   \n",
              "8   BUENOS-AIRES  MADRID  Aerolíneas Argentinas           0  12.083333   \n",
              "9   BUENOS-AIRES  MADRID                  LATAM           2  21.833333   \n",
              "10  BUENOS-AIRES  MADRID                  LATAM           2  23.000000   \n",
              "11  BUENOS-AIRES  MADRID                  LATAM           2  23.000000   \n",
              "12  BUENOS-AIRES  MADRID                  LATAM           2  21.833333   \n",
              "13  BUENOS-AIRES  MADRID                  LATAM           1  35.083333   \n",
              "14  BUENOS-AIRES  MADRID                  LATAM           2  23.000000   \n",
              "15  BUENOS-AIRES  MADRID             Air France           1  16.666667   \n",
              "16  BUENOS-AIRES  MADRID                  LATAM           1  35.083333   \n",
              "17  BUENOS-AIRES  MADRID                  LATAM           1  28.750000   \n",
              "18  BUENOS-AIRES  MADRID                  LATAM           2  23.000000   \n",
              "19  BUENOS-AIRES  MADRID                  LATAM           1  14.750000   \n",
              "20  BUENOS-AIRES  MADRID                  LATAM           2  23.666667   \n",
              "21  BUENOS-AIRES  MADRID                  LATAM           2  23.000000   \n",
              "22  BUENOS-AIRES  MADRID             Air France           1  16.666667   \n",
              "23  BUENOS-AIRES  MADRID                  LATAM           1  28.750000   \n",
              "\n",
              "    escalavuelta  tiempovuelta   precio  \n",
              "0              1     27.166667  368.969  \n",
              "1              1     30.500000  368.969  \n",
              "2              2     29.050000  373.097  \n",
              "3              1     27.166667  388.304  \n",
              "4              2     38.050000  368.459  \n",
              "5              1     27.166667  417.269  \n",
              "6              1     30.500000  388.304  \n",
              "7              1     30.500000  417.269  \n",
              "8              0     13.000000  472.468  \n",
              "9              1     27.166667  415.429  \n",
              "10             1     33.416667  400.353  \n",
              "11             1     27.166667  419.727  \n",
              "12             1     30.500000  415.429  \n",
              "13             1     27.166667  392.472  \n",
              "14             1     30.500000  419.727  \n",
              "15             1     17.750000  469.725  \n",
              "16             1     30.500000  392.472  \n",
              "17             1     27.166667  418.494  \n",
              "18             1     29.333333  427.863  \n",
              "19             1     27.166667  456.402  \n",
              "20             1     33.416667  420.077  \n",
              "21             1     31.166667  427.863  \n",
              "22             1     17.750000  477.224  \n",
              "23             1     30.500000  418.494  "
            ],
            "text/html": [
              "\n",
              "  <div id=\"df-85c350fe-06b3-4607-ae22-8e2a5ceb3a4f\">\n",
              "    <div class=\"colab-df-container\">\n",
              "      <div>\n",
              "<style scoped>\n",
              "    .dataframe tbody tr th:only-of-type {\n",
              "        vertical-align: middle;\n",
              "    }\n",
              "\n",
              "    .dataframe tbody tr th {\n",
              "        vertical-align: top;\n",
              "    }\n",
              "\n",
              "    .dataframe thead th {\n",
              "        text-align: right;\n",
              "    }\n",
              "</style>\n",
              "<table border=\"1\" class=\"dataframe\">\n",
              "  <thead>\n",
              "    <tr style=\"text-align: right;\">\n",
              "      <th></th>\n",
              "      <th>origen</th>\n",
              "      <th>destino</th>\n",
              "      <th>compania</th>\n",
              "      <th>escalaida</th>\n",
              "      <th>tiempoida</th>\n",
              "      <th>escalavuelta</th>\n",
              "      <th>tiempovuelta</th>\n",
              "      <th>precio</th>\n",
              "    </tr>\n",
              "  </thead>\n",
              "  <tbody>\n",
              "    <tr>\n",
              "      <th>0</th>\n",
              "      <td>BUENOS-AIRES</td>\n",
              "      <td>MADRID</td>\n",
              "      <td>LATAM</td>\n",
              "      <td>2</td>\n",
              "      <td>23.000000</td>\n",
              "      <td>1</td>\n",
              "      <td>27.166667</td>\n",
              "      <td>368.969</td>\n",
              "    </tr>\n",
              "    <tr>\n",
              "      <th>1</th>\n",
              "      <td>BUENOS-AIRES</td>\n",
              "      <td>MADRID</td>\n",
              "      <td>LATAM</td>\n",
              "      <td>2</td>\n",
              "      <td>23.000000</td>\n",
              "      <td>1</td>\n",
              "      <td>30.500000</td>\n",
              "      <td>368.969</td>\n",
              "    </tr>\n",
              "    <tr>\n",
              "      <th>2</th>\n",
              "      <td>BUENOS-AIRES</td>\n",
              "      <td>MADRID</td>\n",
              "      <td>LATAM</td>\n",
              "      <td>2</td>\n",
              "      <td>23.000000</td>\n",
              "      <td>2</td>\n",
              "      <td>29.050000</td>\n",
              "      <td>373.097</td>\n",
              "    </tr>\n",
              "    <tr>\n",
              "      <th>3</th>\n",
              "      <td>BUENOS-AIRES</td>\n",
              "      <td>MADRID</td>\n",
              "      <td>LATAM</td>\n",
              "      <td>2</td>\n",
              "      <td>23.666667</td>\n",
              "      <td>1</td>\n",
              "      <td>27.166667</td>\n",
              "      <td>388.304</td>\n",
              "    </tr>\n",
              "    <tr>\n",
              "      <th>4</th>\n",
              "      <td>BUENOS-AIRES</td>\n",
              "      <td>MADRID</td>\n",
              "      <td>LATAM</td>\n",
              "      <td>2</td>\n",
              "      <td>23.000000</td>\n",
              "      <td>2</td>\n",
              "      <td>38.050000</td>\n",
              "      <td>368.459</td>\n",
              "    </tr>\n",
              "    <tr>\n",
              "      <th>5</th>\n",
              "      <td>BUENOS-AIRES</td>\n",
              "      <td>MADRID</td>\n",
              "      <td>LATAM</td>\n",
              "      <td>1</td>\n",
              "      <td>14.750000</td>\n",
              "      <td>1</td>\n",
              "      <td>27.166667</td>\n",
              "      <td>417.269</td>\n",
              "    </tr>\n",
              "    <tr>\n",
              "      <th>6</th>\n",
              "      <td>BUENOS-AIRES</td>\n",
              "      <td>MADRID</td>\n",
              "      <td>LATAM</td>\n",
              "      <td>2</td>\n",
              "      <td>23.666667</td>\n",
              "      <td>1</td>\n",
              "      <td>30.500000</td>\n",
              "      <td>388.304</td>\n",
              "    </tr>\n",
              "    <tr>\n",
              "      <th>7</th>\n",
              "      <td>BUENOS-AIRES</td>\n",
              "      <td>MADRID</td>\n",
              "      <td>LATAM</td>\n",
              "      <td>1</td>\n",
              "      <td>14.750000</td>\n",
              "      <td>1</td>\n",
              "      <td>30.500000</td>\n",
              "      <td>417.269</td>\n",
              "    </tr>\n",
              "    <tr>\n",
              "      <th>8</th>\n",
              "      <td>BUENOS-AIRES</td>\n",
              "      <td>MADRID</td>\n",
              "      <td>Aerolíneas Argentinas</td>\n",
              "      <td>0</td>\n",
              "      <td>12.083333</td>\n",
              "      <td>0</td>\n",
              "      <td>13.000000</td>\n",
              "      <td>472.468</td>\n",
              "    </tr>\n",
              "    <tr>\n",
              "      <th>9</th>\n",
              "      <td>BUENOS-AIRES</td>\n",
              "      <td>MADRID</td>\n",
              "      <td>LATAM</td>\n",
              "      <td>2</td>\n",
              "      <td>21.833333</td>\n",
              "      <td>1</td>\n",
              "      <td>27.166667</td>\n",
              "      <td>415.429</td>\n",
              "    </tr>\n",
              "    <tr>\n",
              "      <th>10</th>\n",
              "      <td>BUENOS-AIRES</td>\n",
              "      <td>MADRID</td>\n",
              "      <td>LATAM</td>\n",
              "      <td>2</td>\n",
              "      <td>23.000000</td>\n",
              "      <td>1</td>\n",
              "      <td>33.416667</td>\n",
              "      <td>400.353</td>\n",
              "    </tr>\n",
              "    <tr>\n",
              "      <th>11</th>\n",
              "      <td>BUENOS-AIRES</td>\n",
              "      <td>MADRID</td>\n",
              "      <td>LATAM</td>\n",
              "      <td>2</td>\n",
              "      <td>23.000000</td>\n",
              "      <td>1</td>\n",
              "      <td>27.166667</td>\n",
              "      <td>419.727</td>\n",
              "    </tr>\n",
              "    <tr>\n",
              "      <th>12</th>\n",
              "      <td>BUENOS-AIRES</td>\n",
              "      <td>MADRID</td>\n",
              "      <td>LATAM</td>\n",
              "      <td>2</td>\n",
              "      <td>21.833333</td>\n",
              "      <td>1</td>\n",
              "      <td>30.500000</td>\n",
              "      <td>415.429</td>\n",
              "    </tr>\n",
              "    <tr>\n",
              "      <th>13</th>\n",
              "      <td>BUENOS-AIRES</td>\n",
              "      <td>MADRID</td>\n",
              "      <td>LATAM</td>\n",
              "      <td>1</td>\n",
              "      <td>35.083333</td>\n",
              "      <td>1</td>\n",
              "      <td>27.166667</td>\n",
              "      <td>392.472</td>\n",
              "    </tr>\n",
              "    <tr>\n",
              "      <th>14</th>\n",
              "      <td>BUENOS-AIRES</td>\n",
              "      <td>MADRID</td>\n",
              "      <td>LATAM</td>\n",
              "      <td>2</td>\n",
              "      <td>23.000000</td>\n",
              "      <td>1</td>\n",
              "      <td>30.500000</td>\n",
              "      <td>419.727</td>\n",
              "    </tr>\n",
              "    <tr>\n",
              "      <th>15</th>\n",
              "      <td>BUENOS-AIRES</td>\n",
              "      <td>MADRID</td>\n",
              "      <td>Air France</td>\n",
              "      <td>1</td>\n",
              "      <td>16.666667</td>\n",
              "      <td>1</td>\n",
              "      <td>17.750000</td>\n",
              "      <td>469.725</td>\n",
              "    </tr>\n",
              "    <tr>\n",
              "      <th>16</th>\n",
              "      <td>BUENOS-AIRES</td>\n",
              "      <td>MADRID</td>\n",
              "      <td>LATAM</td>\n",
              "      <td>1</td>\n",
              "      <td>35.083333</td>\n",
              "      <td>1</td>\n",
              "      <td>30.500000</td>\n",
              "      <td>392.472</td>\n",
              "    </tr>\n",
              "    <tr>\n",
              "      <th>17</th>\n",
              "      <td>BUENOS-AIRES</td>\n",
              "      <td>MADRID</td>\n",
              "      <td>LATAM</td>\n",
              "      <td>1</td>\n",
              "      <td>28.750000</td>\n",
              "      <td>1</td>\n",
              "      <td>27.166667</td>\n",
              "      <td>418.494</td>\n",
              "    </tr>\n",
              "    <tr>\n",
              "      <th>18</th>\n",
              "      <td>BUENOS-AIRES</td>\n",
              "      <td>MADRID</td>\n",
              "      <td>LATAM</td>\n",
              "      <td>2</td>\n",
              "      <td>23.000000</td>\n",
              "      <td>1</td>\n",
              "      <td>29.333333</td>\n",
              "      <td>427.863</td>\n",
              "    </tr>\n",
              "    <tr>\n",
              "      <th>19</th>\n",
              "      <td>BUENOS-AIRES</td>\n",
              "      <td>MADRID</td>\n",
              "      <td>LATAM</td>\n",
              "      <td>1</td>\n",
              "      <td>14.750000</td>\n",
              "      <td>1</td>\n",
              "      <td>27.166667</td>\n",
              "      <td>456.402</td>\n",
              "    </tr>\n",
              "    <tr>\n",
              "      <th>20</th>\n",
              "      <td>BUENOS-AIRES</td>\n",
              "      <td>MADRID</td>\n",
              "      <td>LATAM</td>\n",
              "      <td>2</td>\n",
              "      <td>23.666667</td>\n",
              "      <td>1</td>\n",
              "      <td>33.416667</td>\n",
              "      <td>420.077</td>\n",
              "    </tr>\n",
              "    <tr>\n",
              "      <th>21</th>\n",
              "      <td>BUENOS-AIRES</td>\n",
              "      <td>MADRID</td>\n",
              "      <td>LATAM</td>\n",
              "      <td>2</td>\n",
              "      <td>23.000000</td>\n",
              "      <td>1</td>\n",
              "      <td>31.166667</td>\n",
              "      <td>427.863</td>\n",
              "    </tr>\n",
              "    <tr>\n",
              "      <th>22</th>\n",
              "      <td>BUENOS-AIRES</td>\n",
              "      <td>MADRID</td>\n",
              "      <td>Air France</td>\n",
              "      <td>1</td>\n",
              "      <td>16.666667</td>\n",
              "      <td>1</td>\n",
              "      <td>17.750000</td>\n",
              "      <td>477.224</td>\n",
              "    </tr>\n",
              "    <tr>\n",
              "      <th>23</th>\n",
              "      <td>BUENOS-AIRES</td>\n",
              "      <td>MADRID</td>\n",
              "      <td>LATAM</td>\n",
              "      <td>1</td>\n",
              "      <td>28.750000</td>\n",
              "      <td>1</td>\n",
              "      <td>30.500000</td>\n",
              "      <td>418.494</td>\n",
              "    </tr>\n",
              "  </tbody>\n",
              "</table>\n",
              "</div>\n",
              "      <button class=\"colab-df-convert\" onclick=\"convertToInteractive('df-85c350fe-06b3-4607-ae22-8e2a5ceb3a4f')\"\n",
              "              title=\"Convert this dataframe to an interactive table.\"\n",
              "              style=\"display:none;\">\n",
              "        \n",
              "  <svg xmlns=\"http://www.w3.org/2000/svg\" height=\"24px\"viewBox=\"0 0 24 24\"\n",
              "       width=\"24px\">\n",
              "    <path d=\"M0 0h24v24H0V0z\" fill=\"none\"/>\n",
              "    <path d=\"M18.56 5.44l.94 2.06.94-2.06 2.06-.94-2.06-.94-.94-2.06-.94 2.06-2.06.94zm-11 1L8.5 8.5l.94-2.06 2.06-.94-2.06-.94L8.5 2.5l-.94 2.06-2.06.94zm10 10l.94 2.06.94-2.06 2.06-.94-2.06-.94-.94-2.06-.94 2.06-2.06.94z\"/><path d=\"M17.41 7.96l-1.37-1.37c-.4-.4-.92-.59-1.43-.59-.52 0-1.04.2-1.43.59L10.3 9.45l-7.72 7.72c-.78.78-.78 2.05 0 2.83L4 21.41c.39.39.9.59 1.41.59.51 0 1.02-.2 1.41-.59l7.78-7.78 2.81-2.81c.8-.78.8-2.07 0-2.86zM5.41 20L4 18.59l7.72-7.72 1.47 1.35L5.41 20z\"/>\n",
              "  </svg>\n",
              "      </button>\n",
              "      \n",
              "  <style>\n",
              "    .colab-df-container {\n",
              "      display:flex;\n",
              "      flex-wrap:wrap;\n",
              "      gap: 12px;\n",
              "    }\n",
              "\n",
              "    .colab-df-convert {\n",
              "      background-color: #E8F0FE;\n",
              "      border: none;\n",
              "      border-radius: 50%;\n",
              "      cursor: pointer;\n",
              "      display: none;\n",
              "      fill: #1967D2;\n",
              "      height: 32px;\n",
              "      padding: 0 0 0 0;\n",
              "      width: 32px;\n",
              "    }\n",
              "\n",
              "    .colab-df-convert:hover {\n",
              "      background-color: #E2EBFA;\n",
              "      box-shadow: 0px 1px 2px rgba(60, 64, 67, 0.3), 0px 1px 3px 1px rgba(60, 64, 67, 0.15);\n",
              "      fill: #174EA6;\n",
              "    }\n",
              "\n",
              "    [theme=dark] .colab-df-convert {\n",
              "      background-color: #3B4455;\n",
              "      fill: #D2E3FC;\n",
              "    }\n",
              "\n",
              "    [theme=dark] .colab-df-convert:hover {\n",
              "      background-color: #434B5C;\n",
              "      box-shadow: 0px 1px 3px 1px rgba(0, 0, 0, 0.15);\n",
              "      filter: drop-shadow(0px 1px 2px rgba(0, 0, 0, 0.3));\n",
              "      fill: #FFFFFF;\n",
              "    }\n",
              "  </style>\n",
              "\n",
              "      <script>\n",
              "        const buttonEl =\n",
              "          document.querySelector('#df-85c350fe-06b3-4607-ae22-8e2a5ceb3a4f button.colab-df-convert');\n",
              "        buttonEl.style.display =\n",
              "          google.colab.kernel.accessAllowed ? 'block' : 'none';\n",
              "\n",
              "        async function convertToInteractive(key) {\n",
              "          const element = document.querySelector('#df-85c350fe-06b3-4607-ae22-8e2a5ceb3a4f');\n",
              "          const dataTable =\n",
              "            await google.colab.kernel.invokeFunction('convertToInteractive',\n",
              "                                                     [key], {});\n",
              "          if (!dataTable) return;\n",
              "\n",
              "          const docLinkHtml = 'Like what you see? Visit the ' +\n",
              "            '<a target=\"_blank\" href=https://colab.research.google.com/notebooks/data_table.ipynb>data table notebook</a>'\n",
              "            + ' to learn more about interactive tables.';\n",
              "          element.innerHTML = '';\n",
              "          dataTable['output_type'] = 'display_data';\n",
              "          await google.colab.output.renderOutput(dataTable, element);\n",
              "          const docLink = document.createElement('div');\n",
              "          docLink.innerHTML = docLinkHtml;\n",
              "          element.appendChild(docLink);\n",
              "        }\n",
              "      </script>\n",
              "    </div>\n",
              "  </div>\n",
              "  "
            ]
          },
          "metadata": {},
          "execution_count": 22
        }
      ]
    },
    {
      "cell_type": "code",
      "source": [
        "filt = (bsas_vuelo['escalaida'] == 1) & (bsas_vuelo['escalavuelta'] == 1)\n",
        "bsas_vuelo.loc[filt]"
      ],
      "metadata": {
        "colab": {
          "base_uri": "https://localhost:8080/",
          "height": 332
        },
        "id": "ysHGCMAhd-bX",
        "outputId": "751a70c0-afd3-4588-8a28-440e0dd73771"
      },
      "execution_count": 23,
      "outputs": [
        {
          "output_type": "execute_result",
          "data": {
            "text/plain": [
              "          origen destino     compania  escalaida  tiempoida  escalavuelta  \\\n",
              "5   BUENOS-AIRES  MADRID       LATAM           1  14.750000             1   \n",
              "7   BUENOS-AIRES  MADRID       LATAM           1  14.750000             1   \n",
              "13  BUENOS-AIRES  MADRID       LATAM           1  35.083333             1   \n",
              "15  BUENOS-AIRES  MADRID  Air France           1  16.666667             1   \n",
              "16  BUENOS-AIRES  MADRID       LATAM           1  35.083333             1   \n",
              "17  BUENOS-AIRES  MADRID       LATAM           1  28.750000             1   \n",
              "19  BUENOS-AIRES  MADRID       LATAM           1  14.750000             1   \n",
              "22  BUENOS-AIRES  MADRID  Air France           1  16.666667             1   \n",
              "23  BUENOS-AIRES  MADRID       LATAM           1  28.750000             1   \n",
              "\n",
              "    tiempovuelta   precio  \n",
              "5      27.166667  417.269  \n",
              "7      30.500000  417.269  \n",
              "13     27.166667  392.472  \n",
              "15     17.750000  469.725  \n",
              "16     30.500000  392.472  \n",
              "17     27.166667  418.494  \n",
              "19     27.166667  456.402  \n",
              "22     17.750000  477.224  \n",
              "23     30.500000  418.494  "
            ],
            "text/html": [
              "\n",
              "  <div id=\"df-55dceab4-7188-45b5-aebd-381852d3a731\">\n",
              "    <div class=\"colab-df-container\">\n",
              "      <div>\n",
              "<style scoped>\n",
              "    .dataframe tbody tr th:only-of-type {\n",
              "        vertical-align: middle;\n",
              "    }\n",
              "\n",
              "    .dataframe tbody tr th {\n",
              "        vertical-align: top;\n",
              "    }\n",
              "\n",
              "    .dataframe thead th {\n",
              "        text-align: right;\n",
              "    }\n",
              "</style>\n",
              "<table border=\"1\" class=\"dataframe\">\n",
              "  <thead>\n",
              "    <tr style=\"text-align: right;\">\n",
              "      <th></th>\n",
              "      <th>origen</th>\n",
              "      <th>destino</th>\n",
              "      <th>compania</th>\n",
              "      <th>escalaida</th>\n",
              "      <th>tiempoida</th>\n",
              "      <th>escalavuelta</th>\n",
              "      <th>tiempovuelta</th>\n",
              "      <th>precio</th>\n",
              "    </tr>\n",
              "  </thead>\n",
              "  <tbody>\n",
              "    <tr>\n",
              "      <th>5</th>\n",
              "      <td>BUENOS-AIRES</td>\n",
              "      <td>MADRID</td>\n",
              "      <td>LATAM</td>\n",
              "      <td>1</td>\n",
              "      <td>14.750000</td>\n",
              "      <td>1</td>\n",
              "      <td>27.166667</td>\n",
              "      <td>417.269</td>\n",
              "    </tr>\n",
              "    <tr>\n",
              "      <th>7</th>\n",
              "      <td>BUENOS-AIRES</td>\n",
              "      <td>MADRID</td>\n",
              "      <td>LATAM</td>\n",
              "      <td>1</td>\n",
              "      <td>14.750000</td>\n",
              "      <td>1</td>\n",
              "      <td>30.500000</td>\n",
              "      <td>417.269</td>\n",
              "    </tr>\n",
              "    <tr>\n",
              "      <th>13</th>\n",
              "      <td>BUENOS-AIRES</td>\n",
              "      <td>MADRID</td>\n",
              "      <td>LATAM</td>\n",
              "      <td>1</td>\n",
              "      <td>35.083333</td>\n",
              "      <td>1</td>\n",
              "      <td>27.166667</td>\n",
              "      <td>392.472</td>\n",
              "    </tr>\n",
              "    <tr>\n",
              "      <th>15</th>\n",
              "      <td>BUENOS-AIRES</td>\n",
              "      <td>MADRID</td>\n",
              "      <td>Air France</td>\n",
              "      <td>1</td>\n",
              "      <td>16.666667</td>\n",
              "      <td>1</td>\n",
              "      <td>17.750000</td>\n",
              "      <td>469.725</td>\n",
              "    </tr>\n",
              "    <tr>\n",
              "      <th>16</th>\n",
              "      <td>BUENOS-AIRES</td>\n",
              "      <td>MADRID</td>\n",
              "      <td>LATAM</td>\n",
              "      <td>1</td>\n",
              "      <td>35.083333</td>\n",
              "      <td>1</td>\n",
              "      <td>30.500000</td>\n",
              "      <td>392.472</td>\n",
              "    </tr>\n",
              "    <tr>\n",
              "      <th>17</th>\n",
              "      <td>BUENOS-AIRES</td>\n",
              "      <td>MADRID</td>\n",
              "      <td>LATAM</td>\n",
              "      <td>1</td>\n",
              "      <td>28.750000</td>\n",
              "      <td>1</td>\n",
              "      <td>27.166667</td>\n",
              "      <td>418.494</td>\n",
              "    </tr>\n",
              "    <tr>\n",
              "      <th>19</th>\n",
              "      <td>BUENOS-AIRES</td>\n",
              "      <td>MADRID</td>\n",
              "      <td>LATAM</td>\n",
              "      <td>1</td>\n",
              "      <td>14.750000</td>\n",
              "      <td>1</td>\n",
              "      <td>27.166667</td>\n",
              "      <td>456.402</td>\n",
              "    </tr>\n",
              "    <tr>\n",
              "      <th>22</th>\n",
              "      <td>BUENOS-AIRES</td>\n",
              "      <td>MADRID</td>\n",
              "      <td>Air France</td>\n",
              "      <td>1</td>\n",
              "      <td>16.666667</td>\n",
              "      <td>1</td>\n",
              "      <td>17.750000</td>\n",
              "      <td>477.224</td>\n",
              "    </tr>\n",
              "    <tr>\n",
              "      <th>23</th>\n",
              "      <td>BUENOS-AIRES</td>\n",
              "      <td>MADRID</td>\n",
              "      <td>LATAM</td>\n",
              "      <td>1</td>\n",
              "      <td>28.750000</td>\n",
              "      <td>1</td>\n",
              "      <td>30.500000</td>\n",
              "      <td>418.494</td>\n",
              "    </tr>\n",
              "  </tbody>\n",
              "</table>\n",
              "</div>\n",
              "      <button class=\"colab-df-convert\" onclick=\"convertToInteractive('df-55dceab4-7188-45b5-aebd-381852d3a731')\"\n",
              "              title=\"Convert this dataframe to an interactive table.\"\n",
              "              style=\"display:none;\">\n",
              "        \n",
              "  <svg xmlns=\"http://www.w3.org/2000/svg\" height=\"24px\"viewBox=\"0 0 24 24\"\n",
              "       width=\"24px\">\n",
              "    <path d=\"M0 0h24v24H0V0z\" fill=\"none\"/>\n",
              "    <path d=\"M18.56 5.44l.94 2.06.94-2.06 2.06-.94-2.06-.94-.94-2.06-.94 2.06-2.06.94zm-11 1L8.5 8.5l.94-2.06 2.06-.94-2.06-.94L8.5 2.5l-.94 2.06-2.06.94zm10 10l.94 2.06.94-2.06 2.06-.94-2.06-.94-.94-2.06-.94 2.06-2.06.94z\"/><path d=\"M17.41 7.96l-1.37-1.37c-.4-.4-.92-.59-1.43-.59-.52 0-1.04.2-1.43.59L10.3 9.45l-7.72 7.72c-.78.78-.78 2.05 0 2.83L4 21.41c.39.39.9.59 1.41.59.51 0 1.02-.2 1.41-.59l7.78-7.78 2.81-2.81c.8-.78.8-2.07 0-2.86zM5.41 20L4 18.59l7.72-7.72 1.47 1.35L5.41 20z\"/>\n",
              "  </svg>\n",
              "      </button>\n",
              "      \n",
              "  <style>\n",
              "    .colab-df-container {\n",
              "      display:flex;\n",
              "      flex-wrap:wrap;\n",
              "      gap: 12px;\n",
              "    }\n",
              "\n",
              "    .colab-df-convert {\n",
              "      background-color: #E8F0FE;\n",
              "      border: none;\n",
              "      border-radius: 50%;\n",
              "      cursor: pointer;\n",
              "      display: none;\n",
              "      fill: #1967D2;\n",
              "      height: 32px;\n",
              "      padding: 0 0 0 0;\n",
              "      width: 32px;\n",
              "    }\n",
              "\n",
              "    .colab-df-convert:hover {\n",
              "      background-color: #E2EBFA;\n",
              "      box-shadow: 0px 1px 2px rgba(60, 64, 67, 0.3), 0px 1px 3px 1px rgba(60, 64, 67, 0.15);\n",
              "      fill: #174EA6;\n",
              "    }\n",
              "\n",
              "    [theme=dark] .colab-df-convert {\n",
              "      background-color: #3B4455;\n",
              "      fill: #D2E3FC;\n",
              "    }\n",
              "\n",
              "    [theme=dark] .colab-df-convert:hover {\n",
              "      background-color: #434B5C;\n",
              "      box-shadow: 0px 1px 3px 1px rgba(0, 0, 0, 0.15);\n",
              "      filter: drop-shadow(0px 1px 2px rgba(0, 0, 0, 0.3));\n",
              "      fill: #FFFFFF;\n",
              "    }\n",
              "  </style>\n",
              "\n",
              "      <script>\n",
              "        const buttonEl =\n",
              "          document.querySelector('#df-55dceab4-7188-45b5-aebd-381852d3a731 button.colab-df-convert');\n",
              "        buttonEl.style.display =\n",
              "          google.colab.kernel.accessAllowed ? 'block' : 'none';\n",
              "\n",
              "        async function convertToInteractive(key) {\n",
              "          const element = document.querySelector('#df-55dceab4-7188-45b5-aebd-381852d3a731');\n",
              "          const dataTable =\n",
              "            await google.colab.kernel.invokeFunction('convertToInteractive',\n",
              "                                                     [key], {});\n",
              "          if (!dataTable) return;\n",
              "\n",
              "          const docLinkHtml = 'Like what you see? Visit the ' +\n",
              "            '<a target=\"_blank\" href=https://colab.research.google.com/notebooks/data_table.ipynb>data table notebook</a>'\n",
              "            + ' to learn more about interactive tables.';\n",
              "          element.innerHTML = '';\n",
              "          dataTable['output_type'] = 'display_data';\n",
              "          await google.colab.output.renderOutput(dataTable, element);\n",
              "          const docLink = document.createElement('div');\n",
              "          docLink.innerHTML = docLinkHtml;\n",
              "          element.appendChild(docLink);\n",
              "        }\n",
              "      </script>\n",
              "    </div>\n",
              "  </div>\n",
              "  "
            ]
          },
          "metadata": {},
          "execution_count": 23
        }
      ]
    },
    {
      "cell_type": "markdown",
      "source": [
        "Vuelo de mayor precio"
      ],
      "metadata": {
        "id": "lGQU8lAh3IZg"
      }
    },
    {
      "cell_type": "code",
      "source": [
        "filt = bsas_vuelo['precio'].idxmax()\n",
        "bsas_vuelo.loc[filt]"
      ],
      "metadata": {
        "colab": {
          "base_uri": "https://localhost:8080/"
        },
        "id": "l8NcxwqweIjU",
        "outputId": "38f62e34-773a-4b52-b3fb-34a7c640947d"
      },
      "execution_count": 24,
      "outputs": [
        {
          "output_type": "execute_result",
          "data": {
            "text/plain": [
              "origen          BUENOS-AIRES\n",
              "destino               MADRID\n",
              "compania         Air France \n",
              "escalaida                  1\n",
              "tiempoida          16.666667\n",
              "escalavuelta               1\n",
              "tiempovuelta           17.75\n",
              "precio               477.224\n",
              "Name: 22, dtype: object"
            ]
          },
          "metadata": {},
          "execution_count": 24
        }
      ]
    },
    {
      "cell_type": "markdown",
      "source": [
        "Vuelo de menor precio"
      ],
      "metadata": {
        "id": "_GuvJMGc3OmL"
      }
    },
    {
      "cell_type": "code",
      "source": [
        "filt = bsas_vuelo['precio'].idxmin()\n",
        "bsas_vuelo.loc[filt]"
      ],
      "metadata": {
        "colab": {
          "base_uri": "https://localhost:8080/"
        },
        "id": "QEWl4D3eeTuk",
        "outputId": "c7f1c6bc-cd20-4cfa-b589-c7c6772ec3a8"
      },
      "execution_count": 25,
      "outputs": [
        {
          "output_type": "execute_result",
          "data": {
            "text/plain": [
              "origen          BUENOS-AIRES\n",
              "destino               MADRID\n",
              "compania              LATAM \n",
              "escalaida                  2\n",
              "tiempoida               23.0\n",
              "escalavuelta               2\n",
              "tiempovuelta           38.05\n",
              "precio               368.459\n",
              "Name: 4, dtype: object"
            ]
          },
          "metadata": {},
          "execution_count": 25
        }
      ]
    },
    {
      "cell_type": "markdown",
      "source": [
        "Mediana de los vuelos"
      ],
      "metadata": {
        "id": "ufPiTNDH23b-"
      }
    },
    {
      "cell_type": "code",
      "source": [
        "bsas_vuelo['precio'].median()\n"
      ],
      "metadata": {
        "colab": {
          "base_uri": "https://localhost:8080/"
        },
        "id": "Ggn8PPhGe3gm",
        "outputId": "641c49f3-677c-4cde-f0dd-5be4a521aa0c"
      },
      "execution_count": 26,
      "outputs": [
        {
          "output_type": "execute_result",
          "data": {
            "text/plain": [
              "417.269"
            ]
          },
          "metadata": {},
          "execution_count": 26
        }
      ]
    },
    {
      "cell_type": "markdown",
      "source": [
        "Gráfico de Precios"
      ],
      "metadata": {
        "id": "T4ZS4c1929-w"
      }
    },
    {
      "cell_type": "code",
      "source": [
        "bsas_vuelo[['precio']].plot()"
      ],
      "metadata": {
        "colab": {
          "base_uri": "https://localhost:8080/",
          "height": 282
        },
        "id": "rqTgKbo813b_",
        "outputId": "b4762219-7642-4d03-f2e5-2136cf047867"
      },
      "execution_count": 27,
      "outputs": [
        {
          "output_type": "execute_result",
          "data": {
            "text/plain": [
              "<matplotlib.axes._subplots.AxesSubplot at 0x7f7a5cd3dc50>"
            ]
          },
          "metadata": {},
          "execution_count": 27
        },
        {
          "output_type": "display_data",
          "data": {
            "text/plain": [
              "<Figure size 432x288 with 1 Axes>"
            ],
            "image/png": "[encoded data removed]"
          },
          "metadata": {
            "needs_background": "light"
          }
        }
      ]
    },
    {
      "cell_type": "code",
      "source": [
        "bsas_vuelo[['precio']].plot(kind='bar')"
      ],
      "metadata": {
        "colab": {
          "base_uri": "https://localhost:8080/",
          "height": 289
        },
        "id": "YQBB_-JT2BgE",
        "outputId": "e9e7e088-e7fc-4f86-fd38-00387e62e1d3"
      },
      "execution_count": 28,
      "outputs": [
        {
          "output_type": "execute_result",
          "data": {
            "text/plain": [
              "<matplotlib.axes._subplots.AxesSubplot at 0x7f7a5cd1a950>"
            ]
          },
          "metadata": {},
          "execution_count": 28
        },
        {
          "output_type": "display_data",
          "data": {
            "text/plain": [
              "<Figure size 432x288 with 1 Axes>"
            ],
            "image/png": "[encoded data removed]"
          },
          "metadata": {
            "needs_background": "light"
          }
        }
      ]
    },
    {
      "cell_type": "code",
      "source": [
        "cordoba_precio = cordoba_vuelo['precio']\n",
        "bsas_precio = bsas_vuelo['precio']"
      ],
      "metadata": {
        "id": "w534W4hljh8b"
      },
      "execution_count": 29,
      "outputs": []
    },
    {
      "cell_type": "code",
      "source": [
        "fig, ax = plt.subplots()\n",
        "ax.plot(bsas_precio, '-ob', label= 'Buenos aires')\n",
        "ax.plot(cordoba_precio,'-or', label= 'Cordoba')\n",
        "ax.set(xlabel = 'Numero de vuelo',ylabel ='Precio total',\n",
        "       title = 'Costo vuelo a Madrid')\n",
        "ax.set_ylim([160, 800])\n",
        "ax.legend()\n",
        "ax.grid()\n",
        "plt.show()"
      ],
      "metadata": {
        "colab": {
          "base_uri": "https://localhost:8080/",
          "height": 295
        },
        "id": "mQzARjfNkOKn",
        "outputId": "adad2268-1e29-4c84-e2fa-dec3cb0cc4a8"
      },
      "execution_count": 39,
      "outputs": [
        {
          "output_type": "display_data",
          "data": {
            "text/plain": [
              "<Figure size 432x288 with 1 Axes>"
            ],
            "image/png": "[encoded data removed]"
          },
          "metadata": {
            "needs_background": "light"
          }
        }
      ]
    }
  ]
}